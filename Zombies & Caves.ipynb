{
 "cells": [
  {
   "cell_type": "markdown",
   "metadata": {},
   "source": [
    "# Zombies & Caves"
   ]
  },
  {
   "cell_type": "markdown",
   "metadata": {},
   "source": [
    "There are N caves in a row, numbered 1 through N. For each valid i, the radiation power in the i-th cave is Ci. Originally, the radiation level in each cave was 0. Then, for each valid i, the radiation power in cave i increased the radiation levels in the caves i−Ci,…,i+Ci inclusive (if they exist) by 1, so all the caves are radioactive now.\n",
    "\n",
    "Radiation is not the only problem, though. There are also N zombies with health levels H1,H2,…,HN. You want to kill all of them by getting them to the caves in such a way that there is exactly one zombie in each cave. A zombie dies in a cave if and only if the radiation level in that cave is equal to the health level of the zombie. Is it possible to kill all the zombies?"
   ]
  },
  {
   "cell_type": "code",
   "execution_count": 4,
   "metadata": {},
   "outputs": [
    {
     "name": "stdout",
     "output_type": "stream",
     "text": [
      "How many caves? 5\n",
      "Power in 0th cave? 1\n",
      "Health of 0th zombie? 5\n",
      "Power in 1th cave? 2\n",
      "Health of 1th zombie? 4\n",
      "Power in 2th cave? 3\n",
      "Health of 2th zombie? 3\n",
      "Power in 3th cave? 4\n",
      "Health of 3th zombie? 4\n",
      "Power in 4th cave? 5\n",
      "Health of 4th zombie? 5\n",
      "[5, 5, 4, 4, 3]\n",
      "[5, 4, 3, 4, 5]\n",
      "YES\n"
     ]
    }
   ],
   "source": [
    "rad_level = []\n",
    "rad_pow = []\n",
    "zombie_health = []\n",
    "f = 0\n",
    "\n",
    "N = int(input(\"How many caves? \"))\n",
    "\n",
    "for i in range(0, N):\n",
    "    rad_level.append(0)\n",
    "    rad_pow.append(int(input(\"Power in \"+str(i)+\"th cave? \")))\n",
    "    zombie_health.append(int(input(\"Health of \"+str(i)+\"th zombie? \")))\n",
    "    \n",
    "for i in range(0, N):\n",
    "    l_lim = i-rad_pow[i] if (i-rad_pow[i])>0 else 0\n",
    "    h_lim = i+rad_pow[i]+1 if (i+rad_pow[i]+1)<N else N\n",
    "    \n",
    "    rad_level[l_lim:h_lim] = map(lambda x: x+1, rad_level[l_lim:h_lim])\n",
    "    \n",
    "print(rad_level)\n",
    "print(zombie_health)\n",
    "for i in range(0, N):\n",
    "    if zombie_health[i] not in rad_level:\n",
    "        print(\"NO\")\n",
    "        f=1\n",
    "        break\n",
    "    else:\n",
    "        rad_level.remove(zombie_health[i])\n",
    "        \n",
    "if (f!=1):\n",
    "    print(\"YES\")"
   ]
  }
 ],
 "metadata": {
  "kernelspec": {
   "display_name": "Python 3",
   "language": "python",
   "name": "python3"
  },
  "language_info": {
   "codemirror_mode": {
    "name": "ipython",
    "version": 3
   },
   "file_extension": ".py",
   "mimetype": "text/x-python",
   "name": "python",
   "nbconvert_exporter": "python",
   "pygments_lexer": "ipython3",
   "version": "3.6.5"
  }
 },
 "nbformat": 4,
 "nbformat_minor": 2
}
